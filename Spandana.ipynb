{
  "nbformat": 4,
  "nbformat_minor": 0,
  "metadata": {
    "colab": {
      "provenance": [],
      "authorship_tag": "ABX9TyPkBgPwouY6M3yHU9Lr2aR8",
      "include_colab_link": true
    },
    "kernelspec": {
      "name": "python3",
      "display_name": "Python 3"
    },
    "language_info": {
      "name": "python"
    }
  },
  "cells": [
    {
      "cell_type": "markdown",
      "metadata": {
        "id": "view-in-github",
        "colab_type": "text"
      },
      "source": [
        "<a href=\"https://colab.research.google.com/github/Spandananarayanaswamy/Spandananarayanaswamy/blob/main/Spandana.ipynb\" target=\"_parent\"><img src=\"https://colab.research.google.com/assets/colab-badge.svg\" alt=\"Open In Colab\"/></a>"
      ]
    },
    {
      "cell_type": "code",
      "source": [
        "\n"
      ],
      "metadata": {
        "id": "DP-BaXtR-zt6"
      },
      "execution_count": null,
      "outputs": []
    },
    {
      "source": [
        "def predict_disease():\n",
        "  \"\"\"Predicts a disease based on symptoms.\"\"\"\n",
        "\n",
        "  age = int(input(\"Enter your age: \"))  # Get age as input\n",
        "  symptoms = input(\"Enter your symptoms (comma-separated): \").split(\",\")\n",
        "\n",
        "  # Define a dictionary of diseases and their associated symptoms.\n",
        "  diseases = {\n",
        "      \"Common cold\": [\"cough\", \"sore throat\", \"runny nose\"],\n",
        "      \"Flu\": [\"fever\", \"cough\", \"body aches\"],\n",
        "      \"Pneumonia\": [\"cough\", \"fever\", \"chest pain\"],\n",
        "      \"Tuberculosis\": [\"cough\", \"fever\", \"chest pain\"],\n",
        "  }\n",
        "\n",
        "  # Find the disease with the most matching symptoms.\n",
        "  predicted_disease = None\n",
        "  max_matching_symptoms = 0\n",
        "  for disease, symptoms_list in diseases.items():\n",
        "    matching_symptoms = len(set(symptoms_list) & set(symptoms))\n",
        "    if matching_symptoms > max_matching_symptoms:\n",
        "      predicted_disease = disease\n",
        "      max_matching_symptoms = matching_symptoms\n",
        "\n",
        "  # Print the predicted disease\n",
        "  if predicted_disease:\n",
        "    print(\"Based on your age and symptoms, you may have\", predicted_disease)\n",
        "  else:\n",
        "    print(\"Unable to predict a disease based on the provided information.\")\n",
        "\n",
        "# Call the function to start the prediction process.\n",
        "predict_disease()"
      ],
      "cell_type": "code",
      "metadata": {
        "id": "p5EPu6xp-Zli"
      },
      "execution_count": null,
      "outputs": []
    }
  ]
}